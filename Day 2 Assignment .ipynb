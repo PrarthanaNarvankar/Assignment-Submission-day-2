{
 "cells": [
  {
   "cell_type": "markdown",
   "metadata": {},
   "source": [
    "#Question 1: Create an empty list.Accept 10 numbers from user and append to it the list if it is an even number."
   ]
  },
  {
   "cell_type": "code",
   "execution_count": 23,
   "metadata": {},
   "outputs": [
    {
     "name": "stdout",
     "output_type": "stream",
     "text": [
      "Enter the numbers: \n",
      "11\n",
      "Enter the numbers: \n",
      "12\n",
      "Enter the numbers: \n",
      "13\n",
      "Enter the numbers: \n",
      "14\n",
      "Enter the numbers: \n",
      "15\n",
      "Enter the numbers: \n",
      "16\n",
      "Enter the numbers: \n",
      "17\n",
      "Enter the numbers: \n",
      "18\n",
      "Enter the numbers: \n",
      "19\n",
      "Enter the numbers: \n",
      "20\n",
      "[12, 14, 16, 18, 20]\n"
     ]
    }
   ],
   "source": [
    "even_list=[]\n",
    "\n",
    "for i in range(10):\n",
    "    i=int(input(\"Enter the numbers: \\n\"))\n",
    "    if i%2==0:\n",
    "        even_list.append(i)\n",
    "print(even_list)\n"
   ]
  },
  {
   "cell_type": "markdown",
   "metadata": {},
   "source": [
    "#Question 2:\n"
   ]
  },
  {
   "cell_type": "markdown",
   "metadata": {},
   "source": [
    "Create a notebook on LIST COMPREHENSION."
   ]
  },
  {
   "cell_type": "markdown",
   "metadata": {},
   "source": [
    "#LIST COMPREHENSION IN PYTHON::"
   ]
  },
  {
   "cell_type": "raw",
   "metadata": {},
   "source": [
    "#List Comprehensions are used for creating new lists from other iterables.\n",
    "\n",
    "#As list comprehension return lists,they consist of brackets containing the expression,which is executed for each element along with the for loop to iterate over each element.\n",
    "\n",
    "#This is the basic syntax:\n",
    "new_list=[expression\n",
    "for_loop_one_or_more conditions]"
   ]
  },
  {
   "cell_type": "code",
   "execution_count": 5,
   "metadata": {},
   "outputs": [
    {
     "name": "stdout",
     "output_type": "stream",
     "text": [
      "[1, 4, 9, 16]\n"
     ]
    }
   ],
   "source": [
    "#For example,find the squares of a number using the for loop:\n",
    "\n",
    "numbers=[1,2,3,4]\n",
    "squares=[]\n",
    "for n in numbers:\n",
    "    squares.append(n**2)\n",
    "print(squares)"
   ]
  },
  {
   "cell_type": "code",
   "execution_count": 6,
   "metadata": {},
   "outputs": [
    {
     "name": "stdout",
     "output_type": "stream",
     "text": [
      "[1, 4, 9, 16]\n"
     ]
    }
   ],
   "source": [
    "#Finding squares using list comprehensions:\n",
    "numbers=[1,2,3,4]\n",
    "squares=[n**2 for n in numbers]\n",
    "print(squares)"
   ]
  },
  {
   "cell_type": "raw",
   "metadata": {},
   "source": [
    "Here,square brackets signify that the output is a list.n**2 is the expression executed for each element and for n in numbers is used to iterate over each elements.In other words,execute n**2(expression)for each element in numbers."
   ]
  },
  {
   "cell_type": "code",
   "execution_count": 11,
   "metadata": {},
   "outputs": [
    {
     "name": "stdout",
     "output_type": "stream",
     "text": [
      "[5, 6, 9]\n"
     ]
    }
   ],
   "source": [
    "#A more complex example of list comprehension:\n",
    "#Find common numbers from two lists using for loop.\n",
    "\n",
    "list_a=[5,6,7,9]\n",
    "list_b=[1,5,6,9]\n",
    "common_num=[]\n",
    "for a in list_a:\n",
    "    for b in list_b:\n",
    "        if a==b:\n",
    "            common_num.append(a)\n",
    "print(common_num)"
   ]
  },
  {
   "cell_type": "code",
   "execution_count": 12,
   "metadata": {},
   "outputs": [
    {
     "name": "stdout",
     "output_type": "stream",
     "text": [
      "[2, 3, 4]\n"
     ]
    }
   ],
   "source": [
    "#Find common numbers from two lists using list comprehension:\n",
    "\n",
    "list_a=[1,2,3,4]\n",
    "list_b=[2,3,4,5]\n",
    "common_num=[a for a in list_a for b in list_b if a==b]\n",
    "print(common_num)"
   ]
  },
  {
   "cell_type": "code",
   "execution_count": 13,
   "metadata": {},
   "outputs": [
    {
     "name": "stdout",
     "output_type": "stream",
     "text": [
      "[(1, 2), (1, 7), (2, 7), (3, 2), (3, 7)]\n"
     ]
    }
   ],
   "source": [
    "#Return numbers from the list which are not equal as a tuple:\n",
    "\n",
    "list_a=[1,2,3]\n",
    "list_b=[2,7]\n",
    "diff_num=[(a,b) for a in list_a for b in list_b if a !=b]\n",
    "print(diff_num)"
   ]
  },
  {
   "cell_type": "raw",
   "metadata": {},
   "source": [
    "Here,as we are returning a list of tuples,tuples must be in parenthesis to avoid errors.In above example,tuples with a and b will be printed such that a and b are not the same."
   ]
  },
  {
   "cell_type": "code",
   "execution_count": 15,
   "metadata": {},
   "outputs": [
    {
     "name": "stdout",
     "output_type": "stream",
     "text": [
      "['hello', 'world', 'in', 'python']\n"
     ]
    }
   ],
   "source": [
    "#List Comprehension can also be used to  iterate over strings,as shown below::\n",
    "\n",
    "list_a=[\"Hello\",\"World\",\"In\",\"Python\"]\n",
    "small_list_a=[str.lower() for str in list_a]\n",
    "print(small_list_a)\n",
    "\n",
    "#This example converts each of the string from list_a to a smaller case."
   ]
  },
  {
   "cell_type": "code",
   "execution_count": 16,
   "metadata": {},
   "outputs": [
    {
     "name": "stdout",
     "output_type": "stream",
     "text": [
      "[[1, 1], [4, 8], [9, 27]]\n"
     ]
    }
   ],
   "source": [
    "#Like tuples,list comprehension can be used to produce a list of a list,as shown below:\n",
    "\n",
    "list_a=[1,2,3]\n",
    "square_cube_list=[[a**2,a**3]for a in list_a]\n",
    "print(square_cube_list)"
   ]
  },
  {
   "cell_type": "raw",
   "metadata": {},
   "source": [
    "Here we use list_a to  create square_cube_list,which is a list of list in Python containing squares and cubes of the numbers from list_a ."
   ]
  },
  {
   "cell_type": "markdown",
   "metadata": {},
   "source": [
    "#Question 3:  Given a number n,you have to write a program that generates a dictionary d which contains (i,i*i) where i is                   from 1 to n(both included).Then you have to just print this dictionary d."
   ]
  },
  {
   "cell_type": "code",
   "execution_count": 26,
   "metadata": {},
   "outputs": [
    {
     "name": "stdout",
     "output_type": "stream",
     "text": [
      "Input:8\n",
      "{1: 1, 2: 4, 3: 9, 4: 16, 5: 25, 6: 36, 7: 49, 8: 64}\n"
     ]
    }
   ],
   "source": [
    "n=int(input(\"Input:\"))\n",
    "d=dict()\n",
    "for i in range(1,n+1):\n",
    "    d[i]=i*i\n",
    "print(d)"
   ]
  },
  {
   "cell_type": "code",
   "execution_count": 27,
   "metadata": {},
   "outputs": [
    {
     "name": "stdout",
     "output_type": "stream",
     "text": [
      "Input:11\n",
      "{1: 1, 2: 4, 3: 9, 4: 16, 5: 25, 6: 36, 7: 49, 8: 64, 9: 81, 10: 100, 11: 121}\n"
     ]
    }
   ],
   "source": [
    "n=int(input(\"Input:\"))\n",
    "d=dict()\n",
    "for i in range(1,n+1):\n",
    "    d[i]=i*i\n",
    "print(d)"
   ]
  },
  {
   "cell_type": "markdown",
   "metadata": {},
   "source": [
    "#Question 4: There is a robot which wants to go the charging point to change itself.The robot moves in a 2-D plane from                      original point(0,0).The robot can move UP,DOWN,LEFT and RIGHT with given steps.\n",
    "            The trace of robot movement is shown as following:\n",
    "            UP 5\n",
    "            DOWN 3\n",
    "            LEFT 3\n",
    "            RIGHT 2\n",
    "            Then output of program should be: 2\n",
    "            The number after direction are steps.Write program to compute distance between the current position after a\n",
    "            sequence of movement and original point....."
   ]
  },
  {
   "cell_type": "code",
   "execution_count": 4,
   "metadata": {},
   "outputs": [
    {
     "name": "stdout",
     "output_type": "stream",
     "text": [
      "4\n",
      "UP 5\n",
      "DOWN 3\n",
      "LEFT 3\n",
      "RIGHT 2\n",
      "2"
     ]
    }
   ],
   "source": [
    "import math\n",
    "n=int(input())\n",
    "robot_move=[]\n",
    "x=0\n",
    "y=0\n",
    "for r in range(n):\n",
    "    d,m=input().split()\n",
    "    if d=='UP':\n",
    "        y=y+int(m)\n",
    "    if d=='DOWN':\n",
    "        y=y-int(m)\n",
    "    if d=='RIGHT':\n",
    "        x=x+int(m)\n",
    "    if d=='LEFT':\n",
    "        x=x-int(m)\n",
    "print(round(math.sqrt(x*x+y*y)),end=\"\")\n",
    " "
   ]
  }
 ],
 "metadata": {
  "kernelspec": {
   "display_name": "Python 3",
   "language": "python",
   "name": "python3"
  },
  "language_info": {
   "codemirror_mode": {
    "name": "ipython",
    "version": 3
   },
   "file_extension": ".py",
   "mimetype": "text/x-python",
   "name": "python",
   "nbconvert_exporter": "python",
   "pygments_lexer": "ipython3",
   "version": "3.8.3"
  }
 },
 "nbformat": 4,
 "nbformat_minor": 4
}
